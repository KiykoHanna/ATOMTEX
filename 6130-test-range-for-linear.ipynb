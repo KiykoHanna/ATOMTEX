{
  "nbformat": 4,
  "nbformat_minor": 0,
  "metadata": {
    "colab": {
      "provenance": [],
      "authorship_tag": "ABX9TyN1VVkcf55bKPUjrNLgmP7s",
      "include_colab_link": true
    },
    "kernelspec": {
      "name": "python3",
      "display_name": "Python 3"
    },
    "language_info": {
      "name": "python"
    }
  },
  "cells": [
    {
      "cell_type": "markdown",
      "metadata": {
        "id": "view-in-github",
        "colab_type": "text"
      },
      "source": [
        "<a href=\"https://colab.research.google.com/github/KiykoHanna/ATOMTEX/blob/main/6130-test-range-for-linear.ipynb\" target=\"_parent\"><img src=\"https://colab.research.google.com/assets/colab-badge.svg\" alt=\"Open In Colab\"/></a>"
      ]
    },
    {
      "cell_type": "code",
      "execution_count": 1,
      "metadata": {
        "id": "YSYdmsGK98sF"
      },
      "outputs": [],
      "source": [
        "import numpy as np\n",
        "import pandas as pd\n",
        "import matplotlib.pyplot as plt\n",
        "import plotly.express as px\n",
        "import plotly.graph_objects as go\n",
        "from sklearn import linear_model\n",
        "\n",
        "template = 'ggplot2'"
      ]
    },
    {
      "cell_type": "code",
      "source": [
        "data = pd.DataFrame(columns=['type', 'n_sorce', 'activ', 'Bk/cm2', 'spm'])\n",
        "\n",
        "data.loc[len(data)] = ['4C0-new', 772, 11.675, [22.4, 22.7, 22.6, 22.8], [7760, 7600, 7700]]\n",
        "data.loc[len(data)] = ['4C0-new', 774, 121.675, [238, 240, 236, 236, 238, 235], [80000, 80600, 80500, 80100, 79700, 79600]]\n",
        "data.loc[len(data)] = ['4C0-new', 776, 1181.9, [1980, 1980, 2020, 2010, 2010, 2000], [680100, 679000, 676000, 675000, 675000, 674000]]\n",
        "data.loc[len(data)] = ['4C0-old', 12042, 2258, [2200, 2180, 2190, 2170, 2180, 2170], [728000, 722000, 723000, 721000, 725000, 727000]]\n",
        "data.loc[len(data)] = ['4C0-old', 12041, 892.4, [897, 889, 887, 889, 901, 899], [300000, 299000, 302000, 299000, 298000, 299000]]\n",
        "data.loc[len(data)] = ['4C0-old', 12040, 191.3, [205, 208, 208, 208], [68000, 66800, 66400, 67500]]\n",
        "data.loc[len(data)] = ['4C0-old', 12039, 78.39, [89.1, 88.7, 89.2, 89.9], [29000, 29800, 29500]]\n",
        "data.loc[len(data)] = ['4C0-old', 12043, 8392, [7520, 7550, 7620, 7580], [2474000, 2500000, 2520000]]\n",
        "\n",
        "data['Bk/cm2'] = [np.mean(i) for i in data['Bk/cm2']]\n",
        "data['spm'] = [np.mean(i) for i in data['spm']]\n",
        "\n",
        "data['error'] = 100*(data['Bk/cm2'] - data['activ'])/data['activ']\n",
        "data.sort_values(by='activ', inplace=True)\n",
        "print('новые источники:\\n', data[data['type'] == '4C0-new'])\n",
        "print('старые источники:\\n', data[data['type'] == '4C0-old'])"
      ],
      "metadata": {
        "colab": {
          "base_uri": "https://localhost:8080/"
        },
        "id": "ASwh3Mvl-Agg",
        "outputId": "b484901c-ae88-480d-e9b9-3e3f12885b73"
      },
      "execution_count": 6,
      "outputs": [
        {
          "output_type": "stream",
          "name": "stdout",
          "text": [
            "новые источники:\n",
            "       type  n_sorce     activ       Bk/cm2            spm      error\n",
            "0  4C0-new      772    11.675    22.625000    7686.666667  93.790150\n",
            "1  4C0-new      774   121.675   237.166667   80083.333333  94.918156\n",
            "2  4C0-new      776  1181.900  2000.000000  676516.666667  69.219054\n",
            "старые источники:\n",
            "       type  n_sorce    activ       Bk/cm2           spm      error\n",
            "6  4C0-old    12039    78.39    89.225000  2.943333e+04  13.821916\n",
            "5  4C0-old    12040   191.30   207.250000  6.717500e+04   8.337689\n",
            "4  4C0-old    12041   892.40   893.666667  2.995000e+05   0.141939\n",
            "3  4C0-old    12042  2258.00  2181.666667  7.243333e+05  -3.380573\n",
            "7  4C0-old    12043  8392.00  7567.500000  2.498000e+06  -9.824833\n"
          ]
        }
      ]
    }
  ]
}