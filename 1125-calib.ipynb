{
 "cells": [
  {
   "attachments": {},
   "cell_type": "markdown",
   "metadata": {},
   "source": [
    "### Cs-137 №_483"
   ]
  },
  {
   "cell_type": "code",
   "execution_count": 14,
   "metadata": {},
   "outputs": [
    {
     "name": "stdout",
     "output_type": "stream",
     "text": [
      "45.825\n",
      "80.19375000000001\n",
      "-3.7289915966386418 %\n"
     ]
    }
   ],
   "source": [
    "n = [38.8, 53.6, 44.9, 46.0]\n",
    "a = 83.3\n",
    "print(sum(n) / len(n))\n",
    "print(1.75*(sum(n)) / len(n))\n",
    "print(((1.75*(sum(n)) / len(n)) - a)*100 / a, '%')"
   ]
  },
  {
   "attachments": {},
   "cell_type": "markdown",
   "metadata": {},
   "source": [
    "### Cs-137 №_93"
   ]
  },
  {
   "cell_type": "code",
   "execution_count": 11,
   "metadata": {},
   "outputs": [
    {
     "name": "stdout",
     "output_type": "stream",
     "text": [
      "412.25\n",
      "721.4375\n",
      "-14.521623222748815 %\n"
     ]
    }
   ],
   "source": [
    "n = [395, 410, 428, 416]\n",
    "a = 844\n",
    "print(sum(n) / len(n))\n",
    "print(1.75*(sum(n)) / len(n))\n",
    "print(((1.75*(sum(n)) / len(n)) - a)*100 / a, '%')"
   ]
  },
  {
   "attachments": {},
   "cell_type": "markdown",
   "metadata": {},
   "source": [
    "### Cs-137 №_832"
   ]
  },
  {
   "cell_type": "code",
   "execution_count": 12,
   "metadata": {},
   "outputs": [
    {
     "name": "stdout",
     "output_type": "stream",
     "text": [
      "4677.5\n",
      "8185.625\n",
      "-10.176396356852848 %\n"
     ]
    }
   ],
   "source": [
    "n = [4640, 4500, 4770, 4800]\n",
    "a = 9113\n",
    "print(sum(n) / len(n))\n",
    "print(1.75*(sum(n)) / len(n))\n",
    "print(((1.75*(sum(n)) / len(n)) - a)*100 / a, '%')"
   ]
  },
  {
   "attachments": {},
   "cell_type": "markdown",
   "metadata": {},
   "source": [
    "### Cs-137 №_595"
   ]
  },
  {
   "cell_type": "code",
   "execution_count": 13,
   "metadata": {},
   "outputs": [
    {
     "name": "stdout",
     "output_type": "stream",
     "text": [
      "48200.0\n",
      "84350.0\n",
      "-7.3076923076923075 %\n"
     ]
    }
   ],
   "source": [
    "n = [48600, 47700, 48500, 48000]\n",
    "a = 91000\n",
    "print(sum(n) / len(n))\n",
    "print(1.75*(sum(n)) / len(n))\n",
    "print(((1.75*(sum(n)) / len(n)) - a)*100 / a, '%')"
   ]
  },
  {
   "cell_type": "code",
   "execution_count": null,
   "metadata": {},
   "outputs": [],
   "source": []
  }
 ],
 "metadata": {
  "kernelspec": {
   "display_name": "Python 3",
   "language": "python",
   "name": "python3"
  },
  "language_info": {
   "codemirror_mode": {
    "name": "ipython",
    "version": 3
   },
   "file_extension": ".py",
   "mimetype": "text/x-python",
   "name": "python",
   "nbconvert_exporter": "python",
   "pygments_lexer": "ipython3",
   "version": "3.10.7"
  },
  "orig_nbformat": 4
 },
 "nbformat": 4,
 "nbformat_minor": 2
}
