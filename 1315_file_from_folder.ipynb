{
 "cells": [
  {
   "cell_type": "markdown",
   "metadata": {},
   "source": [
    "# Add the .atm spectr in the database from folder"
   ]
  },
  {
   "cell_type": "markdown",
   "metadata": {},
   "source": [
    "import"
   ]
  },
  {
   "cell_type": "code",
   "execution_count": 216,
   "metadata": {},
   "outputs": [],
   "source": [
    "import os\n",
    "from turtle import color\n",
    "import matplotlib.pyplot as plt\n",
    "import numpy as np\n",
    "import pandas as pd\n",
    "import os\n",
    "from turtle import color\n",
    "import seaborn as sns\n",
    "from sklearn.linear_model import LinearRegression \n",
    "from pathlib import Path\n",
    "import plotly.express as px\n",
    "import os"
   ]
  },
  {
   "cell_type": "markdown",
   "metadata": {},
   "source": [
    "select the folder\n"
   ]
  },
  {
   "cell_type": "code",
   "execution_count": 217,
   "metadata": {},
   "outputs": [],
   "source": [
    "folder_name = 'D:\\work\\\\1315\\Коэф перехода 5178'\n",
    "spectr_list = [i for i in os.listdir(folder_name) if i.endswith('.ats')]\n",
    "\n",
    "# add the comments\n",
    "coments = 'методика поверки, испытания Белгим,'"
   ]
  },
  {
   "cell_type": "code",
   "execution_count": 218,
   "metadata": {},
   "outputs": [],
   "source": [
    "# functions for reading spectra\n",
    "def defin_nucl(name):\n",
    "    a = ''\n",
    "    if 'cs' in name.lower(): a = 'Cs-137'\n",
    "    elif 'sr' in name.lower(): a = 'Sr-90'\n",
    "    elif '1C0' in name.lower(): a = 'Sr-90'\n",
    "    elif '3C0' in name.lower(): a = 'Sr-90'\n",
    "    elif '4C0' in name.lower(): a = 'Sr-90'\n",
    "    elif '5C0' in name.lower(): a = 'Sr-90', \n",
    "    elif ('fon' in name.lower()) or ('фон' in name.lower()): a = 'background'\n",
    "    elif ('phon' in name.lower()): a = 'background'\n",
    "    return a\n",
    "\n",
    "\n",
    "def read_spectr(file_path):\n",
    "\n",
    "    nuclid = defin_nucl(file_path)\n",
    "    E_cal = []\n",
    "    R_cal = []\n",
    "    Rest = []\n",
    "    sp_gamma = []\n",
    "    with open (file_path) as spec:\n",
    "        n_line = 0\n",
    "        for line in spec:\n",
    "            if line.startswith('TIME'): time = int(line[line.index('=')+2 :-1])\n",
    "            elif line.startswith('GEOMETRY'): geom = line[line.index('=')+2 :-1]\n",
    "            elif line.startswith('WEIGHT'): weight = float(line[line.index('=')+2 :-1])\n",
    "            elif line.startswith('DATE '): date = line[line.index('=')+2 :-1]\n",
    "            elif line.startswith('DU_TYPE'): s_n = line[line.index('=')+2 :-1]\n",
    "            \n",
    "            n_line += 1\n",
    "            if n_line in range(48,1071): \n",
    "                E_cal.append(float(line.strip()))\n",
    "            if n_line in range(2098,3121): \n",
    "                R_cal.append(float(line.strip()))\n",
    "            if n_line in range(3123,4145): \n",
    "                sp_gamma.append(float(line.strip()))\n",
    "            if n_line in range(1073,2096): \n",
    "                Rest.append(float(line.strip()))\n",
    "    sp_gamma.append(0)\n",
    "    dict_d_ats = {'time':time,\n",
    "                'serial_number':s_n, \n",
    "                'geometry':geom, \n",
    "                'weight':weight, \n",
    "                'date':date, \n",
    "                'sp_beta':[Rest], \n",
    "                'Energy':[E_cal], \n",
    "                'sp_gamma':[sp_gamma], \n",
    "                'R_cal':[R_cal], \n",
    "                'coments': coments,\n",
    "                'nuclid': nuclid\n",
    "                }\n",
    "    df_ats = pd.DataFrame(dict_d_ats)\n",
    "    return df_ats\n"
   ]
  },
  {
   "cell_type": "code",
   "execution_count": 219,
   "metadata": {},
   "outputs": [],
   "source": [
    "# read database\n",
    "db = pd.read_csv('1315_database.csv')\n"
   ]
  },
  {
   "cell_type": "code",
   "execution_count": 226,
   "metadata": {},
   "outputs": [],
   "source": [
    "for i in spectr_list:\n",
    "\n",
    "    df_from_ats = read_spectr(folder_name + '\\\\' + i)\n",
    "\n",
    "    # forming name of spectr\n",
    "    if i.endswith(str(int(df_from_ats['serial_number']))):\n",
    "        Name = i[:-4] \n",
    "    else:\n",
    "        Name = i[:-4] + '.' + df_from_ats['serial_number']\n",
    "    df_from_ats['name'] = Name\n",
    "\n",
    "    # checking for repetitions\n",
    "    if Name[0] in db['name'].values:\n",
    "        db[db['name'] == i] = df_from_ats.values\n",
    "    else:\n",
    "        db = pd.concat([db, df_from_ats], ignore_index=True)\n",
    "\n"
   ]
  },
  {
   "cell_type": "code",
   "execution_count": 221,
   "metadata": {},
   "outputs": [
    {
     "data": {
      "text/html": [
       "<div>\n",
       "<style scoped>\n",
       "    .dataframe tbody tr th:only-of-type {\n",
       "        vertical-align: middle;\n",
       "    }\n",
       "\n",
       "    .dataframe tbody tr th {\n",
       "        vertical-align: top;\n",
       "    }\n",
       "\n",
       "    .dataframe thead th {\n",
       "        text-align: right;\n",
       "    }\n",
       "</style>\n",
       "<table border=\"1\" class=\"dataframe\">\n",
       "  <thead>\n",
       "    <tr style=\"text-align: right;\">\n",
       "      <th></th>\n",
       "      <th>name</th>\n",
       "      <th>nuclid</th>\n",
       "    </tr>\n",
       "  </thead>\n",
       "  <tbody>\n",
       "    <tr>\n",
       "      <th>0</th>\n",
       "      <td>1C0_2125 без держателя.5175</td>\n",
       "      <td>Sr-90</td>\n",
       "    </tr>\n",
       "    <tr>\n",
       "      <th>1</th>\n",
       "      <td>1C0_2125 без держателя 0,1.5175</td>\n",
       "      <td>Sr-90</td>\n",
       "    </tr>\n",
       "    <tr>\n",
       "      <th>2</th>\n",
       "      <td>1C0_2125 без держателя 0,2.5175</td>\n",
       "      <td>Sr-90</td>\n",
       "    </tr>\n",
       "    <tr>\n",
       "      <th>3</th>\n",
       "      <td>1C0_2125 без держателя 0,03.5175</td>\n",
       "      <td>Sr-90</td>\n",
       "    </tr>\n",
       "    <tr>\n",
       "      <th>4</th>\n",
       "      <td>1C0_2125 без держателя 0,5.5175</td>\n",
       "      <td>Sr-90</td>\n",
       "    </tr>\n",
       "    <tr>\n",
       "      <th>...</th>\n",
       "      <td>...</td>\n",
       "      <td>...</td>\n",
       "    </tr>\n",
       "    <tr>\n",
       "      <th>494</th>\n",
       "      <td>V02_Phon.5176</td>\n",
       "      <td>background</td>\n",
       "    </tr>\n",
       "    <tr>\n",
       "      <th>495</th>\n",
       "      <td>V05_Phon.5176</td>\n",
       "      <td>background</td>\n",
       "    </tr>\n",
       "    <tr>\n",
       "      <th>496</th>\n",
       "      <td>3С0 2127 без держ + оргстекло.5178.5178</td>\n",
       "      <td></td>\n",
       "    </tr>\n",
       "    <tr>\n",
       "      <th>497</th>\n",
       "      <td>3С0 2127 без держ + сосуд 003.5178.5178</td>\n",
       "      <td></td>\n",
       "    </tr>\n",
       "    <tr>\n",
       "      <th>498</th>\n",
       "      <td>3С0 2127 без держ.5178.5178</td>\n",
       "      <td></td>\n",
       "    </tr>\n",
       "  </tbody>\n",
       "</table>\n",
       "<p>499 rows × 2 columns</p>\n",
       "</div>"
      ],
      "text/plain": [
       "                                        name      nuclid\n",
       "0                1C0_2125 без держателя.5175       Sr-90\n",
       "1            1C0_2125 без держателя 0,1.5175       Sr-90\n",
       "2            1C0_2125 без держателя 0,2.5175       Sr-90\n",
       "3           1C0_2125 без держателя 0,03.5175       Sr-90\n",
       "4            1C0_2125 без держателя 0,5.5175       Sr-90\n",
       "..                                       ...         ...\n",
       "494                            V02_Phon.5176  background\n",
       "495                            V05_Phon.5176  background\n",
       "496  3С0 2127 без держ + оргстекло.5178.5178            \n",
       "497  3С0 2127 без держ + сосуд 003.5178.5178            \n",
       "498              3С0 2127 без держ.5178.5178            \n",
       "\n",
       "[499 rows x 2 columns]"
      ]
     },
     "execution_count": 221,
     "metadata": {},
     "output_type": "execute_result"
    }
   ],
   "source": [
    "db[['name', 'nuclid']]"
   ]
  },
  {
   "cell_type": "code",
   "execution_count": 222,
   "metadata": {},
   "outputs": [
    {
     "data": {
      "text/plain": [
       "0                  1C0_2125 без держателя.5175\n",
       "1              1C0_2125 без держателя 0,1.5175\n",
       "2              1C0_2125 без держателя 0,2.5175\n",
       "3             1C0_2125 без держателя 0,03.5175\n",
       "4              1C0_2125 без держателя 0,5.5175\n",
       "                        ...                   \n",
       "494                              V02_Phon.5176\n",
       "495                              V05_Phon.5176\n",
       "496    3С0 2127 без держ + оргстекло.5178.5178\n",
       "497    3С0 2127 без держ + сосуд 003.5178.5178\n",
       "498                3С0 2127 без держ.5178.5178\n",
       "Name: name, Length: 499, dtype: object"
      ]
     },
     "execution_count": 222,
     "metadata": {},
     "output_type": "execute_result"
    }
   ],
   "source": [
    "# writing database\n",
    "db.to_csv('1315_database.csv', index=False)\n",
    "db.name"
   ]
  },
  {
   "cell_type": "code",
   "execution_count": null,
   "metadata": {},
   "outputs": [],
   "source": []
  }
 ],
 "metadata": {
  "kernelspec": {
   "display_name": "Python 3",
   "language": "python",
   "name": "python3"
  },
  "language_info": {
   "codemirror_mode": {
    "name": "ipython",
    "version": 3
   },
   "file_extension": ".py",
   "mimetype": "text/x-python",
   "name": "python",
   "nbconvert_exporter": "python",
   "pygments_lexer": "ipython3",
   "version": "3.10.7"
  },
  "orig_nbformat": 4
 },
 "nbformat": 4,
 "nbformat_minor": 2
}
