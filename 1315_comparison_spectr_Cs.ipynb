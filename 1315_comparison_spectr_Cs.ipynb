{
  "cells": [
    {
      "cell_type": "markdown",
      "metadata": {
        "id": "1uA1taNgIJlj"
      },
      "source": [
        "import libraries"
      ]
    },
    {
      "cell_type": "code",
      "execution_count": 54,
      "metadata": {
        "id": "-CvNas32IJll"
      },
      "outputs": [],
      "source": [
        "import os\n",
        "from turtle import color\n",
        "import matplotlib.pyplot as plt\n",
        "import numpy as np\n",
        "import pandas as pd\n",
        "import os\n",
        "from turtle import color\n",
        "import seaborn as sns\n",
        "from sklearn.linear_model import LinearRegression\n",
        "from pathlib import Path\n",
        "import plotly.express as px\n",
        "from plotly.subplots import make_subplots\n",
        "import plotly.graph_objects as go\n"
      ]
    },
    {
      "cell_type": "markdown",
      "source": [
        "# Read the file with database. The file is readen from the githab."
      ],
      "metadata": {
        "id": "ulqRpATifOxh"
      }
    },
    {
      "cell_type": "code",
      "execution_count": 55,
      "metadata": {
        "id": "p4e1U2ZnIJlm"
      },
      "outputs": [],
      "source": [
        "# read the file with database\n",
        "url =' https://raw.githubusercontent.com/KiykoHanna/ATOMTEX/main/1315_database.csv'\n",
        "db = pd.read_csv(url)\n",
        "db.columns = ['name',\n",
        "              'nuclid',\n",
        "              'time',\n",
        "              'serial_number',\n",
        "              'geometry',\n",
        "              'weight',\n",
        "              'date',\n",
        "              'sp_beta',\n",
        "              'Energy',\n",
        "              'sp_gamma',\n",
        "              'R_cal',\n",
        "              'comments'\n",
        "              ]\n"
      ]
    },
    {
      "cell_type": "code",
      "execution_count": 56,
      "metadata": {
        "id": "xSFf4h3ZIJlm"
      },
      "outputs": [],
      "source": [
        "# convert some columns from string to list\n",
        "def convert_to_list(a_str):\n",
        "    return [float(i) for i in a_str[1:-1].split(', ')]\n",
        "\n",
        "list_of_str = ['Energy', 'R_cal', 'sp_gamma', 'sp_beta']\n",
        "for i in list_of_str:\n",
        "    db[i] = db[i].apply(convert_to_list)\n"
      ]
    },
    {
      "cell_type": "code",
      "source": [
        "db['time'][0]"
      ],
      "metadata": {
        "id": "zIrBONuN6B8D",
        "outputId": "4777e6a3-ea0f-4bb3-97cb-fe3210a9aef7",
        "colab": {
          "base_uri": "https://localhost:8080/"
        }
      },
      "execution_count": 57,
      "outputs": [
        {
          "output_type": "execute_result",
          "data": {
            "text/plain": [
              "10800.0"
            ]
          },
          "metadata": {},
          "execution_count": 57
        }
      ]
    },
    {
      "cell_type": "code",
      "execution_count": 67,
      "metadata": {
        "id": "MgM254J2IJlm"
      },
      "outputs": [],
      "source": [
        "# create function for select and show\n",
        "\n",
        "# function for searching spectrs including a_sytring in the name\n",
        "def select_spectr(data, a_str, col_name='name'):\n",
        "    a = data[col_name]\n",
        "    b = [i if a_str in str(i) else '---' for i in a]\n",
        "    data = data.loc[data[col_name].isin(b)]\n",
        "    return data\n",
        "\n",
        "# function for showing spectrs\n",
        "def show_comp_spectr(data):\n",
        "    fig = make_subplots(rows=2, cols=1)\n",
        "    color_continuous_scale = [\"black\", \"orange\", \"red\", \"green\", \"blue\", \"purple\", 'turquoise', 'violet', 'wheat', 'yellow', 'yellowgreen']\n",
        "    for j, i in enumerate(data.index):\n",
        "        y_gamma = np.round(3000 * data['sp_gamma'][i]/data['time'][i]).astype(int)\n",
        "        y_beta = np.round(30000 * data['sp_beta'][i]/data['time'][i]).astype(int)\n",
        "        print(y_gamma[10:50])\n",
        "        fig.add_trace(\n",
        "            go.Scatter(x= data['Energy'][i],\n",
        "                        y= y_gamma,\n",
        "                        mode=\"markers\",\n",
        "                        marker=dict(size=3, color= color_continuous_scale[j % len(color_continuous_scale)]),\n",
        "                        name=data['name'][i] +'gamma'),\n",
        "            row=1, col=1,\n",
        "\n",
        "        )\n",
        "\n",
        "    for j, i in enumerate(data.index):\n",
        "        fig.add_trace(\n",
        "            go.Scatter(x=data['Energy'][i],\n",
        "                        y=y_beta,\n",
        "                        mode=\"markers\",\n",
        "                        marker=dict(size=3, color= color_continuous_scale[j % len(color_continuous_scale)]),\n",
        "                        name=data['name'][i] + 'beta'),\n",
        "            row=2, col=1\n",
        "        )\n",
        "\n",
        "    fig.update_layout(height=600, width=1200, title_text=\"Spectrs\")\n",
        "    fig.show()"
      ]
    },
    {
      "cell_type": "code",
      "execution_count": 59,
      "metadata": {
        "colab": {
          "base_uri": "https://localhost:8080/"
        },
        "id": "lkFJDLfoIJln",
        "outputId": "2eb9c9aa-2f80-49b1-e4b9-090798b9d5a1"
      },
      "outputs": [
        {
          "output_type": "stream",
          "name": "stdout",
          "text": [
            "73                                   V05_Phon.5176\n",
            "77                                   V02_Phon.5176\n",
            "81                                   V01_Phon.5176\n",
            "85                                  V003_Phon.5176\n",
            "168                                   SM_Phon.5176\n",
            "172                                    P_Phon.5176\n",
            "182                                    M_Phon.5176\n",
            "191                               fonMrb.5176.5176\n",
            "205                                CsM10.5176.5176\n",
            "314         Cs 93 между насадками 2 и 1. 5176.5176\n",
            "315      Cs 93 между насадками 2 и 1  3. 5176.5176\n",
            "316      Cs 93 между насадками 2 и 1  2. 5176.5176\n",
            "320        Cs 518 между насадками 2 и 1. 5176.5176\n",
            "325        Cs 483 между насадками 2 и 1. 5176.5176\n",
            "326     Cs 483 между насадками 2 и 1  3. 5176.5176\n",
            "327     Cs 483 между насадками 2 и 1  2. 5176.5176\n",
            "331        Cs 394 между насадками 2 и 1. 5176.5176\n",
            "332        Cs 385 между насадками 2 и 1. 5176.5176\n",
            "333     Cs 385 между насадками 2 и 1  3. 5176.5176\n",
            "334     Cs 385 между насадками 2 и 1  2. 5176.5176\n",
            "335       Cs 3668 между насадками 2 и 1. 5176.5176\n",
            "336    Cs 3668 между насадками 2 и 1  2. 5176.5176\n",
            "338                                   control.5176\n",
            "Name: name, dtype: object\n"
          ]
        },
        {
          "output_type": "execute_result",
          "data": {
            "text/plain": [
              "('total number of mathing spectr:', 23)"
            ]
          },
          "metadata": {},
          "execution_count": 59
        }
      ],
      "source": [
        "# select file to show\n",
        "data = pd.DataFrame()\n",
        "\n",
        "search = '5176'\n",
        "col_for_search = 'serial_number'\n",
        "data = select_spectr(db, search, col_name= col_for_search)\n",
        "\n",
        "# search = 'Сs'\n",
        "# col_for_search = 'name'\n",
        "# data = select_spectr(data, search, col_name= col_for_search)\n",
        "\n",
        "\n",
        "\n",
        "print(data.name)\n",
        "'total number of mathing spectr:', len(data)"
      ]
    },
    {
      "cell_type": "code",
      "source": [
        "n_spectr = [191, 205, 335]\n",
        "\n",
        "data_aa = db.iloc[n_spectr]\n",
        "show_comp_spectr(data_aa)\n"
      ],
      "metadata": {
        "id": "jVQ28C9PsCzC",
        "outputId": "3d9ee989-16cb-402a-9e06-8df63c70acb3",
        "colab": {
          "base_uri": "https://localhost:8080/"
        }
      },
      "execution_count": 68,
      "outputs": [
        {
          "output_type": "stream",
          "name": "stdout",
          "text": [
            "[0 0 0 0 0 0 0 0 0 0 0 0 0 0 0 0 0 0 0 0 0 0 0 0 0 0 0 0 0 0 0 0 0 0 0 0 0\n",
            " 0 0 0]\n",
            "[0 0 0 1 1 1 1 1 1 1 1 1 1 1 1 1 1 1 1 1 1 1 1 1 1 1 1 1 1 1 1 1 2 2 2 2 2\n",
            " 2 2 2]\n",
            "[0 0 0 2 2 2 3 2 2 2 2 2 2 3 3 3 3 3 3 3 3 4 4 4 4 4 5 5 5 5 5 6 6 6 6 6 7\n",
            " 7 7 7]\n"
          ]
        }
      ]
    },
    {
      "cell_type": "code",
      "source": [],
      "metadata": {
        "id": "NKfY0DxftSnC"
      },
      "execution_count": 60,
      "outputs": []
    }
  ],
  "metadata": {
    "kernelspec": {
      "display_name": "Python 3",
      "language": "python",
      "name": "python3"
    },
    "language_info": {
      "codemirror_mode": {
        "name": "ipython",
        "version": 3
      },
      "file_extension": ".py",
      "mimetype": "text/x-python",
      "name": "python",
      "nbconvert_exporter": "python",
      "pygments_lexer": "ipython3",
      "version": "3.10.7"
    },
    "orig_nbformat": 4,
    "colab": {
      "provenance": []
    }
  },
  "nbformat": 4,
  "nbformat_minor": 0
}