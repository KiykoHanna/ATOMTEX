{
  "cells": [
    {
      "cell_type": "markdown",
      "metadata": {
        "id": "1uA1taNgIJlj"
      },
      "source": [
        "import libraries"
      ]
    },
    {
      "cell_type": "code",
      "execution_count": 9,
      "metadata": {
        "id": "-CvNas32IJll"
      },
      "outputs": [],
      "source": [
        "import os\n",
        "from turtle import color\n",
        "import matplotlib.pyplot as plt\n",
        "import numpy as np\n",
        "import pandas as pd\n",
        "import os\n",
        "from turtle import color\n",
        "import seaborn as sns\n",
        "from sklearn.linear_model import LinearRegression\n",
        "from pathlib import Path\n",
        "import plotly.express as px\n",
        "from plotly.subplots import make_subplots\n",
        "import plotly.graph_objects as go\n"
      ]
    },
    {
      "cell_type": "markdown",
      "source": [
        "# Read the file with database. The file is readen from the githab."
      ],
      "metadata": {
        "id": "ulqRpATifOxh"
      }
    },
    {
      "cell_type": "code",
      "execution_count": 10,
      "metadata": {
        "id": "p4e1U2ZnIJlm"
      },
      "outputs": [],
      "source": [
        "# read the file with database\n",
        "url =' https://raw.githubusercontent.com/KiykoHanna/ATOMTEX/main/1315_database.csv'\n",
        "db = pd.read_csv(url)\n",
        "db.columns = ['name',\n",
        "              'nuclid',\n",
        "              'time',\n",
        "              'serial_number',\n",
        "              'geometry',\n",
        "              'weight',\n",
        "              'date',\n",
        "              'sp_beta',\n",
        "              'Energy',\n",
        "              'sp_gamma',\n",
        "              'R_cal',\n",
        "              'comments'\n",
        "              ]\n"
      ]
    },
    {
      "cell_type": "code",
      "execution_count": 11,
      "metadata": {
        "id": "xSFf4h3ZIJlm"
      },
      "outputs": [],
      "source": [
        "# convert some columns from string to list\n",
        "def convert_to_list(a_str):\n",
        "    return [float(i) for i in a_str[1:-1].split(', ')]\n",
        "\n",
        "list_of_str = ['Energy', 'R_cal', 'sp_gamma', 'sp_beta']\n",
        "for i in list_of_str:\n",
        "    db[i] = db[i].apply(convert_to_list)\n"
      ]
    },
    {
      "cell_type": "code",
      "source": [
        "db['time'][0]"
      ],
      "metadata": {
        "id": "zIrBONuN6B8D",
        "outputId": "141fc568-4ff6-4c90-8d21-8607d31bdcdc",
        "colab": {
          "base_uri": "https://localhost:8080/"
        }
      },
      "execution_count": 12,
      "outputs": [
        {
          "output_type": "execute_result",
          "data": {
            "text/plain": [
              "10800.0"
            ]
          },
          "metadata": {},
          "execution_count": 12
        }
      ]
    },
    {
      "cell_type": "code",
      "execution_count": 13,
      "metadata": {
        "id": "MgM254J2IJlm",
        "outputId": "2b95eca1-fa6a-4d81-88cf-0c762de8f6f4",
        "colab": {
          "base_uri": "https://localhost:8080/",
          "height": 284
        }
      },
      "outputs": [
        {
          "output_type": "error",
          "ename": "SyntaxError",
          "evalue": "ignored",
          "traceback": [
            "\u001b[0;31m---------------------------------------------------------------------------\u001b[0m",
            "\u001b[0;31mSyntaxError\u001b[0m                               Traceback (most recent call last)",
            "\u001b[0;32m/usr/local/lib/python3.10/dist-packages/IPython/core/compilerop.py\u001b[0m in \u001b[0;36mast_parse\u001b[0;34m(self, source, filename, symbol)\u001b[0m\n\u001b[1;32m     99\u001b[0m         \u001b[0mArguments\u001b[0m \u001b[0mare\u001b[0m \u001b[0mexactly\u001b[0m \u001b[0mthe\u001b[0m \u001b[0msame\u001b[0m \u001b[0;32mas\u001b[0m \u001b[0mast\u001b[0m\u001b[0;34m.\u001b[0m\u001b[0mparse\u001b[0m \u001b[0;34m(\u001b[0m\u001b[0;32min\u001b[0m \u001b[0mthe\u001b[0m \u001b[0mstandard\u001b[0m \u001b[0mlibrary\u001b[0m\u001b[0;34m)\u001b[0m\u001b[0;34m,\u001b[0m\u001b[0;34m\u001b[0m\u001b[0;34m\u001b[0m\u001b[0m\n\u001b[1;32m    100\u001b[0m         and are passed to the built-in compile function.\"\"\"\n\u001b[0;32m--> 101\u001b[0;31m         \u001b[0;32mreturn\u001b[0m \u001b[0mcompile\u001b[0m\u001b[0;34m(\u001b[0m\u001b[0msource\u001b[0m\u001b[0;34m,\u001b[0m \u001b[0mfilename\u001b[0m\u001b[0;34m,\u001b[0m \u001b[0msymbol\u001b[0m\u001b[0;34m,\u001b[0m \u001b[0mself\u001b[0m\u001b[0;34m.\u001b[0m\u001b[0mflags\u001b[0m \u001b[0;34m|\u001b[0m \u001b[0mPyCF_ONLY_AST\u001b[0m\u001b[0;34m,\u001b[0m \u001b[0;36m1\u001b[0m\u001b[0;34m)\u001b[0m\u001b[0;34m\u001b[0m\u001b[0;34m\u001b[0m\u001b[0m\n\u001b[0m\u001b[1;32m    102\u001b[0m \u001b[0;34m\u001b[0m\u001b[0m\n\u001b[1;32m    103\u001b[0m     \u001b[0;32mdef\u001b[0m \u001b[0mreset_compiler_flags\u001b[0m\u001b[0;34m(\u001b[0m\u001b[0mself\u001b[0m\u001b[0;34m)\u001b[0m\u001b[0;34m:\u001b[0m\u001b[0;34m\u001b[0m\u001b[0;34m\u001b[0m\u001b[0m\n",
            "\u001b[0;31mSyntaxError\u001b[0m: incomplete input (<ipython-input-13-e55cffadaec5>, line 43)"
          ]
        }
      ],
      "source": [
        "# create function for select and show\n",
        "\n",
        "# function for searching spectrs including a_sytring in the name\n",
        "def select_spectr(data, a_str, col_name='name'):\n",
        "    a = data[col_name]\n",
        "    b = [i if a_str in str(i) else '---' for i in a]\n",
        "    data = data.loc[data[col_name].isin(b)]\n",
        "    return data\n",
        "\n",
        "# function for showing spectrs\n",
        "def show_comp_spectr(data):\n",
        "    fig = make_subplots(rows=2, cols=1)\n",
        "    color_continuous_scale = [\"black\", \"orange\", \"red\", \"green\", \"blue\", \"purple\", 'turquoise', 'violet', 'wheat', 'yellow', 'yellowgreen']\n",
        "    for j, i in enumerate(data.index):\n",
        "        y_gamma = data['sp_gamma'][i] / data['time'][i]\n",
        "        fig.add_trace(\n",
        "            go.Scatter(x= data['Energy'][i],\n",
        "                        y= y_gamma,\n",
        "                        mode=\"markers\",\n",
        "                        marker=dict(size=3, color= color_continuous_scale[j % len(color_continuous_scale)]),\n",
        "                        name=data['name'][i] +'gamma'),\n",
        "            row=1, col=1,\n",
        "\n",
        "        )\n",
        "\n",
        "    for j, i in enumerate(data.index):\n",
        "        y_beta = data['sp_beta'][i] / data['time'][i]\n",
        "        fig.add_trace(\n",
        "            go.Scatter(x=data['Energy'][i],\n",
        "                        y=y_beta,\n",
        "                        mode=\"markers\",\n",
        "                        marker=dict(size=3, color= color_continuous_scale[j % len(color_continuous_scale)]),\n",
        "                        name=data['name'][i] + 'beta'),\n",
        "            row=2, col=1\n",
        "        )\n",
        "\n",
        "    fig.update_layout(height=600, width=1200, title_text=\"Spectrs\")\n",
        "    fig.show()\n",
        "\n",
        "# function for normalizing spectrs hight of peak of total absorption\n",
        "def norm_peak(data):\n",
        "\n",
        ""
      ]
    },
    {
      "cell_type": "code",
      "execution_count": null,
      "metadata": {
        "id": "lkFJDLfoIJln"
      },
      "outputs": [],
      "source": [
        "# select file to show\n",
        "data = pd.DataFrame()\n",
        "\n",
        "search = '5176'\n",
        "col_for_search = 'serial_number'\n",
        "data = select_spectr(db, search, col_name= col_for_search)\n",
        "\n",
        "# search = 'Сs'\n",
        "# col_for_search = 'name'\n",
        "# data = select_spectr(data, search, col_name= col_for_search)\n",
        "\n",
        "\n",
        "\n",
        "print(data.name)\n",
        "'total number of mathing spectr:', len(data)"
      ]
    },
    {
      "cell_type": "code",
      "source": [
        "n_spectr = [314, 320, 325, 331, 332, 335]\n",
        "\n",
        "data_aa = db.iloc[n_spectr]\n",
        "show_comp_spectr(data_aa)\n"
      ],
      "metadata": {
        "id": "jVQ28C9PsCzC"
      },
      "execution_count": null,
      "outputs": []
    },
    {
      "cell_type": "code",
      "source": [],
      "metadata": {
        "id": "NKfY0DxftSnC"
      },
      "execution_count": null,
      "outputs": []
    }
  ],
  "metadata": {
    "kernelspec": {
      "display_name": "Python 3",
      "language": "python",
      "name": "python3"
    },
    "language_info": {
      "codemirror_mode": {
        "name": "ipython",
        "version": 3
      },
      "file_extension": ".py",
      "mimetype": "text/x-python",
      "name": "python",
      "nbconvert_exporter": "python",
      "pygments_lexer": "ipython3",
      "version": "3.10.7"
    },
    "orig_nbformat": 4,
    "colab": {
      "provenance": []
    }
  },
  "nbformat": 4,
  "nbformat_minor": 0
}