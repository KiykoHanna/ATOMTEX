{
 "cells": [
  {
   "cell_type": "markdown",
   "metadata": {},
   "source": [
    "# Read the .atm files, show it in the graph and add to the database"
   ]
  },
  {
   "cell_type": "markdown",
   "metadata": {},
   "source": [
    "import librares\n"
   ]
  },
  {
   "cell_type": "code",
   "execution_count": 22,
   "metadata": {},
   "outputs": [],
   "source": [
    "import os\n",
    "from turtle import color\n",
    "import matplotlib.pyplot as plt\n",
    "import numpy as np\n",
    "import pandas as pd\n",
    "import os\n",
    "from turtle import color\n",
    "import seaborn as sns\n",
    "from sklearn.linear_model import LinearRegression \n",
    "from pathlib import Path\n",
    "import plotly.express as px"
   ]
  },
  {
   "cell_type": "markdown",
   "metadata": {},
   "source": [
    "Add the name of the spectr and additional information"
   ]
  },
  {
   "cell_type": "code",
   "execution_count": 23,
   "metadata": {},
   "outputs": [
    {
     "data": {
      "text/plain": [
       "'SrM10.5174'"
      ]
     },
     "execution_count": 23,
     "metadata": {},
     "output_type": "execute_result"
    }
   ],
   "source": [
    "ats_sp_name = 'D:\\work\\\\1315\\Коэф перехода 5174\\Sr-90\\SrM10.5174.ats'\n",
    "Name = ats_sp_name[ats_sp_name.rindex('\\\\')+1:-4]\n",
    "coments = 'методика поверки бета'\n",
    "nuclid = 'Sr-90'\n",
    "Name"
   ]
  },
  {
   "cell_type": "markdown",
   "metadata": {},
   "source": [
    "Handling the spectr and check the data"
   ]
  },
  {
   "cell_type": "code",
   "execution_count": 24,
   "metadata": {},
   "outputs": [],
   "source": [
    "E_cal = []\n",
    "R_cal = []\n",
    "Rest = []\n",
    "sp_gamma = []\n",
    "dict_d_ats ={}\n",
    "dict_d_ats['name'] = Name\n",
    "dict_d_ats['nuclid'] = nuclid\n",
    "with open (ats_sp_name ) as spec:\n",
    "    n_line = 0\n",
    "    for line in spec:\n",
    "        if line.startswith('TIME'): time = int(line[line.index('=')+2 :-1])\n",
    "        elif line.startswith('GEOMETRY'): geom = line[line.index('=')+2 :-1]\n",
    "        elif line.startswith('WEIGHT'): weight = float(line[line.index('=')+2 :-1])\n",
    "        elif line.startswith('DATE '): date = line[line.index('=')+2 :-1]\n",
    "        elif line.startswith('DU_TYPE'): s_n = line[line.index('=')+2 :-1]\n",
    "        \n",
    "        n_line += 1\n",
    "        if n_line in range(48,1071): \n",
    "            E_cal.append(float(line.strip()))\n",
    "        if n_line in range(2098,3121): \n",
    "            R_cal.append(float(line.strip()))\n",
    "        if n_line in range(3123,4145): \n",
    "            sp_gamma.append(float(line.strip()))\n",
    "        if n_line in range(1073,2096): \n",
    "            Rest.append(float(line.strip()))\n",
    "sp_gamma.append(0)\n",
    "dict_d_ats = {'time':time,\n",
    "             'serial_number':s_n, \n",
    "             'geometry':geom, \n",
    "             'weight':weight, \n",
    "             'date':date, \n",
    "             'sp_beta':[Rest], \n",
    "             'Energy':[E_cal], \n",
    "             'sp_gamma':[sp_gamma], \n",
    "             'R_cal':[R_cal]\n",
    "             }\n",
    "def check_data(data_dict):\n",
    "    col = ['sp_gamma','sp_beta', 'Energy', 'R_cal']\n",
    "    d = [data_dict[i] for i in col]\n",
    "    l = [len(i) for i in d]\n",
    "    return len(set(l)) == 1 \n",
    "check_data(dict_d_ats)\n",
    "\n",
    "\n",
    "dict_d_ats['coments'] = coments\n",
    "dict_d_ats['nuclid'] = nuclid"
   ]
  },
  {
   "cell_type": "markdown",
   "metadata": {},
   "source": [
    "compose the dataframe"
   ]
  },
  {
   "cell_type": "code",
   "execution_count": 25,
   "metadata": {},
   "outputs": [],
   "source": [
    "df_ats = pd.DataFrame(dict_d_ats)\n"
   ]
  },
  {
   "cell_type": "markdown",
   "metadata": {},
   "source": [
    "show spectr in the graph"
   ]
  },
  {
   "cell_type": "code",
   "execution_count": 26,
   "metadata": {},
   "outputs": [],
   "source": [
    "def show_spectr(data):\n",
    "    fig = px.scatter(data['sp_gamma'][0])\n",
    "    fig1 = px.scatter(data['sp_beta'][0])\n",
    "    fig.show()\n",
    "    fig1.show()\n",
    "\n",
    "# show_spectr(df_ats)"
   ]
  },
  {
   "cell_type": "markdown",
   "metadata": {},
   "source": [
    "add spectr to the database\n"
   ]
  },
  {
   "cell_type": "code",
   "execution_count": 27,
   "metadata": {},
   "outputs": [
    {
     "data": {
      "text/html": [
       "<div>\n",
       "<style scoped>\n",
       "    .dataframe tbody tr th:only-of-type {\n",
       "        vertical-align: middle;\n",
       "    }\n",
       "\n",
       "    .dataframe tbody tr th {\n",
       "        vertical-align: top;\n",
       "    }\n",
       "\n",
       "    .dataframe thead th {\n",
       "        text-align: right;\n",
       "    }\n",
       "</style>\n",
       "<table border=\"1\" class=\"dataframe\">\n",
       "  <thead>\n",
       "    <tr style=\"text-align: right;\">\n",
       "      <th></th>\n",
       "      <th>time</th>\n",
       "      <th>serial_number</th>\n",
       "      <th>geometry</th>\n",
       "      <th>weight</th>\n",
       "      <th>date</th>\n",
       "      <th>sp_beta</th>\n",
       "      <th>Energy</th>\n",
       "      <th>sp_gamma</th>\n",
       "      <th>R_cal</th>\n",
       "      <th>coments</th>\n",
       "      <th>nuclid</th>\n",
       "    </tr>\n",
       "  </thead>\n",
       "  <tbody>\n",
       "    <tr>\n",
       "      <th>0</th>\n",
       "      <td>4200</td>\n",
       "      <td>5174</td>\n",
       "      <td>0</td>\n",
       "      <td>1002.0</td>\n",
       "      <td>09/15/2021 06:09:21</td>\n",
       "      <td>[0.0, 0.0, 0.0, 0.0, 0.0, 0.0, 0.0, 0.0, 0.0, ...</td>\n",
       "      <td>[0.0, 0.0, 1.0, 4.0, 7.0, 10.1, 13.1, 16.20000...</td>\n",
       "      <td>[0.0, 0.0, 0.0, 0.0, 0.0, 0.0, 0.0, 0.0, 0.0, ...</td>\n",
       "      <td>[1.1, 1.2, 1.2, 1.2, 1.2, 1.3, 1.3, 1.3, 1.3, ...</td>\n",
       "      <td>методика поверки бета</td>\n",
       "      <td>Sr-90</td>\n",
       "    </tr>\n",
       "  </tbody>\n",
       "</table>\n",
       "</div>"
      ],
      "text/plain": [
       "   time serial_number geometry  weight                 date  \\\n",
       "0  4200          5174        0  1002.0  09/15/2021 06:09:21   \n",
       "\n",
       "                                             sp_beta  \\\n",
       "0  [0.0, 0.0, 0.0, 0.0, 0.0, 0.0, 0.0, 0.0, 0.0, ...   \n",
       "\n",
       "                                              Energy  \\\n",
       "0  [0.0, 0.0, 1.0, 4.0, 7.0, 10.1, 13.1, 16.20000...   \n",
       "\n",
       "                                            sp_gamma  \\\n",
       "0  [0.0, 0.0, 0.0, 0.0, 0.0, 0.0, 0.0, 0.0, 0.0, ...   \n",
       "\n",
       "                                               R_cal                coments  \\\n",
       "0  [1.1, 1.2, 1.2, 1.2, 1.2, 1.3, 1.3, 1.3, 1.3, ...  методика поверки бета   \n",
       "\n",
       "  nuclid  \n",
       "0  Sr-90  "
      ]
     },
     "execution_count": 27,
     "metadata": {},
     "output_type": "execute_result"
    }
   ],
   "source": [
    "df_ats"
   ]
  },
  {
   "cell_type": "code",
   "execution_count": 30,
   "metadata": {},
   "outputs": [
    {
     "ename": "KeyError",
     "evalue": "'name'",
     "output_type": "error",
     "traceback": [
      "\u001b[1;31m---------------------------------------------------------------------------\u001b[0m",
      "\u001b[1;31mKeyError\u001b[0m                                  Traceback (most recent call last)",
      "File \u001b[1;32mc:\\Users\\fitu2\\AppData\\Local\\Programs\\Python\\Python310\\lib\\site-packages\\pandas\\core\\indexes\\base.py:3803\u001b[0m, in \u001b[0;36mIndex.get_loc\u001b[1;34m(self, key, method, tolerance)\u001b[0m\n\u001b[0;32m   3802\u001b[0m \u001b[39mtry\u001b[39;00m:\n\u001b[1;32m-> 3803\u001b[0m     \u001b[39mreturn\u001b[39;00m \u001b[39mself\u001b[39;49m\u001b[39m.\u001b[39;49m_engine\u001b[39m.\u001b[39;49mget_loc(casted_key)\n\u001b[0;32m   3804\u001b[0m \u001b[39mexcept\u001b[39;00m \u001b[39mKeyError\u001b[39;00m \u001b[39mas\u001b[39;00m err:\n",
      "File \u001b[1;32mc:\\Users\\fitu2\\AppData\\Local\\Programs\\Python\\Python310\\lib\\site-packages\\pandas\\_libs\\index.pyx:138\u001b[0m, in \u001b[0;36mpandas._libs.index.IndexEngine.get_loc\u001b[1;34m()\u001b[0m\n",
      "File \u001b[1;32mc:\\Users\\fitu2\\AppData\\Local\\Programs\\Python\\Python310\\lib\\site-packages\\pandas\\_libs\\index.pyx:165\u001b[0m, in \u001b[0;36mpandas._libs.index.IndexEngine.get_loc\u001b[1;34m()\u001b[0m\n",
      "File \u001b[1;32mpandas\\_libs\\hashtable_class_helper.pxi:5745\u001b[0m, in \u001b[0;36mpandas._libs.hashtable.PyObjectHashTable.get_item\u001b[1;34m()\u001b[0m\n",
      "File \u001b[1;32mpandas\\_libs\\hashtable_class_helper.pxi:5753\u001b[0m, in \u001b[0;36mpandas._libs.hashtable.PyObjectHashTable.get_item\u001b[1;34m()\u001b[0m\n",
      "\u001b[1;31mKeyError\u001b[0m: 'name'",
      "\nThe above exception was the direct cause of the following exception:\n",
      "\u001b[1;31mKeyError\u001b[0m                                  Traceback (most recent call last)",
      "Cell \u001b[1;32mIn[30], line 4\u001b[0m\n\u001b[0;32m      1\u001b[0m db \u001b[39m=\u001b[39m pd\u001b[39m.\u001b[39mread_csv(\u001b[39m'\u001b[39m\u001b[39m1315_database.csv\u001b[39m\u001b[39m'\u001b[39m)\n\u001b[0;32m      2\u001b[0m db\u001b[39m.\u001b[39mcolumns\u001b[39m=\u001b[39m [\u001b[39m'\u001b[39m\u001b[39mname\u001b[39m\u001b[39m'\u001b[39m, \u001b[39m'\u001b[39m\u001b[39mnuclid\u001b[39m\u001b[39m'\u001b[39m, \u001b[39m'\u001b[39m\u001b[39mtime\u001b[39m\u001b[39m'\u001b[39m, \u001b[39m'\u001b[39m\u001b[39mserial_number\u001b[39m\u001b[39m'\u001b[39m,\t\u001b[39m'\u001b[39m\u001b[39mgeometry\u001b[39m\u001b[39m'\u001b[39m,\t\u001b[39m'\u001b[39m\u001b[39mweight\u001b[39m\u001b[39m'\u001b[39m, \u001b[39m'\u001b[39m\u001b[39mdate\u001b[39m\u001b[39m'\u001b[39m, \u001b[39m'\u001b[39m\u001b[39msp_beta\u001b[39m\u001b[39m'\u001b[39m, \u001b[39m'\u001b[39m\u001b[39mEnergy\u001b[39m\u001b[39m'\u001b[39m, \u001b[39m'\u001b[39m\u001b[39msp_gamma\u001b[39m\u001b[39m'\u001b[39m,\t\u001b[39m'\u001b[39m\u001b[39mR_cal\u001b[39m\u001b[39m'\u001b[39m, \u001b[39m'\u001b[39m\u001b[39mcoments\u001b[39m\u001b[39m'\u001b[39m ]\n\u001b[1;32m----> 4\u001b[0m \u001b[39mif\u001b[39;00m df_ats[\u001b[39m'\u001b[39;49m\u001b[39mname\u001b[39;49m\u001b[39m'\u001b[39;49m][\u001b[39m0\u001b[39m] \u001b[39min\u001b[39;00m db[\u001b[39m'\u001b[39m\u001b[39mname\u001b[39m\u001b[39m'\u001b[39m]\u001b[39m.\u001b[39mvalues:\n\u001b[0;32m      5\u001b[0m     db[db[\u001b[39m'\u001b[39m\u001b[39mname\u001b[39m\u001b[39m'\u001b[39m] \u001b[39m==\u001b[39m Name] \u001b[39m=\u001b[39m df_ats\u001b[39m.\u001b[39mvalues\n\u001b[0;32m      6\u001b[0m \u001b[39melse\u001b[39;00m:\n",
      "File \u001b[1;32mc:\\Users\\fitu2\\AppData\\Local\\Programs\\Python\\Python310\\lib\\site-packages\\pandas\\core\\frame.py:3805\u001b[0m, in \u001b[0;36mDataFrame.__getitem__\u001b[1;34m(self, key)\u001b[0m\n\u001b[0;32m   3803\u001b[0m \u001b[39mif\u001b[39;00m \u001b[39mself\u001b[39m\u001b[39m.\u001b[39mcolumns\u001b[39m.\u001b[39mnlevels \u001b[39m>\u001b[39m \u001b[39m1\u001b[39m:\n\u001b[0;32m   3804\u001b[0m     \u001b[39mreturn\u001b[39;00m \u001b[39mself\u001b[39m\u001b[39m.\u001b[39m_getitem_multilevel(key)\n\u001b[1;32m-> 3805\u001b[0m indexer \u001b[39m=\u001b[39m \u001b[39mself\u001b[39;49m\u001b[39m.\u001b[39;49mcolumns\u001b[39m.\u001b[39;49mget_loc(key)\n\u001b[0;32m   3806\u001b[0m \u001b[39mif\u001b[39;00m is_integer(indexer):\n\u001b[0;32m   3807\u001b[0m     indexer \u001b[39m=\u001b[39m [indexer]\n",
      "File \u001b[1;32mc:\\Users\\fitu2\\AppData\\Local\\Programs\\Python\\Python310\\lib\\site-packages\\pandas\\core\\indexes\\base.py:3805\u001b[0m, in \u001b[0;36mIndex.get_loc\u001b[1;34m(self, key, method, tolerance)\u001b[0m\n\u001b[0;32m   3803\u001b[0m     \u001b[39mreturn\u001b[39;00m \u001b[39mself\u001b[39m\u001b[39m.\u001b[39m_engine\u001b[39m.\u001b[39mget_loc(casted_key)\n\u001b[0;32m   3804\u001b[0m \u001b[39mexcept\u001b[39;00m \u001b[39mKeyError\u001b[39;00m \u001b[39mas\u001b[39;00m err:\n\u001b[1;32m-> 3805\u001b[0m     \u001b[39mraise\u001b[39;00m \u001b[39mKeyError\u001b[39;00m(key) \u001b[39mfrom\u001b[39;00m \u001b[39merr\u001b[39;00m\n\u001b[0;32m   3806\u001b[0m \u001b[39mexcept\u001b[39;00m \u001b[39mTypeError\u001b[39;00m:\n\u001b[0;32m   3807\u001b[0m     \u001b[39m# If we have a listlike key, _check_indexing_error will raise\u001b[39;00m\n\u001b[0;32m   3808\u001b[0m     \u001b[39m#  InvalidIndexError. Otherwise we fall through and re-raise\u001b[39;00m\n\u001b[0;32m   3809\u001b[0m     \u001b[39m#  the TypeError.\u001b[39;00m\n\u001b[0;32m   3810\u001b[0m     \u001b[39mself\u001b[39m\u001b[39m.\u001b[39m_check_indexing_error(key)\n",
      "\u001b[1;31mKeyError\u001b[0m: 'name'"
     ]
    }
   ],
   "source": [
    "db = pd.read_csv('1315_database.csv')\n",
    "db.columns= ['name', 'nuclid', 'time', 'serial_number',\t'geometry',\t'weight', 'date', 'sp_beta', 'Energy', 'sp_gamma',\t'R_cal', 'coments' ]\n",
    "\n",
    "if df_ats['name'][0] in db['name'].values:\n",
    "    db[db['name'] == Name] = df_ats.values\n",
    "else:\n",
    "    db = pd.concat([db, df_ats], ignore_index=True)\n",
    "db.to_csv('1315_database.csv', index=False)\n",
    "db.name"
   ]
  },
  {
   "cell_type": "code",
   "execution_count": null,
   "metadata": {},
   "outputs": [],
   "source": []
  }
 ],
 "metadata": {
  "kernelspec": {
   "display_name": "Python 3",
   "language": "python",
   "name": "python3"
  },
  "language_info": {
   "codemirror_mode": {
    "name": "ipython",
    "version": 3
   },
   "file_extension": ".py",
   "mimetype": "text/x-python",
   "name": "python",
   "nbconvert_exporter": "python",
   "pygments_lexer": "ipython3",
   "version": "3.10.7"
  },
  "orig_nbformat": 4
 },
 "nbformat": 4,
 "nbformat_minor": 2
}
