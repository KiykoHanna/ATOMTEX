{
  "nbformat": 4,
  "nbformat_minor": 0,
  "metadata": {
    "colab": {
      "provenance": [],
      "authorship_tag": "ABX9TyNLv4h6bFZj4dxYTsJ+Me4R",
      "include_colab_link": true
    },
    "kernelspec": {
      "name": "python3",
      "display_name": "Python 3"
    },
    "language_info": {
      "name": "python"
    }
  },
  "cells": [
    {
      "cell_type": "markdown",
      "metadata": {
        "id": "view-in-github",
        "colab_type": "text"
      },
      "source": [
        "<a href=\"https://colab.research.google.com/github/KiykoHanna/ATOMTEX/blob/main/6130-test-linear.ipynb\" target=\"_parent\"><img src=\"https://colab.research.google.com/assets/colab-badge.svg\" alt=\"Open In Colab\"/></a>"
      ]
    },
    {
      "cell_type": "markdown",
      "source": [
        "Про"
      ],
      "metadata": {
        "id": "fwhWplTLCtDb"
      }
    },
    {
      "cell_type": "code",
      "execution_count": 15,
      "metadata": {
        "id": "YSYdmsGK98sF"
      },
      "outputs": [],
      "source": [
        "import numpy as np\n",
        "import pandas as pd\n",
        "import matplotlib.pyplot as plt\n",
        "import plotly.express as px\n",
        "import plotly.graph_objects as go\n",
        "from sklearn import linear_model\n",
        "\n",
        "template = 'ggplot2'"
      ]
    },
    {
      "cell_type": "markdown",
      "source": [
        "SSSS"
      ],
      "metadata": {
        "id": "C191opvmCxF2"
      }
    },
    {
      "cell_type": "code",
      "source": [
        "data = pd.DataFrame(columns=['type', 'n_sorce', 'activ', 'Bk/cm2', 'cpm'])\n",
        "\n",
        "data.loc[len(data)] = ['4C0-new', 772, 11.675, [22.4, 22.7, 22.6, 22.8], [7760, 7600, 7700]]\n",
        "data.loc[len(data)] = ['4C0-new', 774, 121.675, [238, 240, 236, 236, 238, 235], [80000, 80600, 80500, 80100, 79700, 79600]]\n",
        "data.loc[len(data)] = ['4C0-new', 776, 1181.9, [1980, 1980, 2020, 2010, 2010, 2000], [680100, 679000, 676000, 675000, 675000, 674000]]\n",
        "data.loc[len(data)] = ['4C0-old', 12042, 2258, [2200, 2180, 2190, 2170, 2180, 2170], [728000, 722000, 723000, 721000, 725000, 727000]]\n",
        "data.loc[len(data)] = ['4C0-old', 12041, 892.4, [897, 889, 887, 889, 901, 899], [300000, 299000, 302000, 299000, 298000, 299000]]\n",
        "data.loc[len(data)] = ['4C0-old', 12040, 191.3, [205, 208, 208, 208], [68000, 66800, 66400, 67500]]\n",
        "data.loc[len(data)] = ['4C0-old', 12039, 78.39, [89.1, 88.7, 89.2, 89.9], [29000, 29800, 29500]]\n",
        "data.loc[len(data)] = ['4C0-old', 12043, 8392, [7520, 7550, 7620, 7580], [2474000, 2500000, 2520000]]\n",
        "print(data)\n",
        "data['Bk/cm2'] = [np.mean(i) for i in data['Bk/cm2']]\n",
        "data['cpm'] = [np.mean(i) for i in data['cpm']]\n",
        "\n",
        "data['error'] = 100*(data['Bk/cm2'] - data['activ'])/data['activ']\n",
        "\n",
        "\n",
        "data.sort_values(by='activ', inplace=True)\n",
        "print('новые источники:\\n', data[data['type'] == '4C0-new'])\n",
        "print('старые источники:\\n', data[data['type'] == '4C0-old'])"
      ],
      "metadata": {
        "colab": {
          "base_uri": "https://localhost:8080/"
        },
        "id": "ASwh3Mvl-Agg",
        "outputId": "8efae543-bafd-4472-9970-0eae35c1c0a4"
      },
      "execution_count": 17,
      "outputs": [
        {
          "output_type": "stream",
          "name": "stdout",
          "text": [
            "      type  n_sorce     activ                                Bk/cm2  \\\n",
            "0  4C0-new      772    11.675              [22.4, 22.7, 22.6, 22.8]   \n",
            "1  4C0-new      774   121.675        [238, 240, 236, 236, 238, 235]   \n",
            "2  4C0-new      776  1181.900  [1980, 1980, 2020, 2010, 2010, 2000]   \n",
            "3  4C0-old    12042  2258.000  [2200, 2180, 2190, 2170, 2180, 2170]   \n",
            "4  4C0-old    12041   892.400        [897, 889, 887, 889, 901, 899]   \n",
            "5  4C0-old    12040   191.300                  [205, 208, 208, 208]   \n",
            "6  4C0-old    12039    78.390              [89.1, 88.7, 89.2, 89.9]   \n",
            "7  4C0-old    12043  8392.000              [7520, 7550, 7620, 7580]   \n",
            "\n",
            "                                                cpm  \n",
            "0                                [7760, 7600, 7700]  \n",
            "1        [80000, 80600, 80500, 80100, 79700, 79600]  \n",
            "2  [680100, 679000, 676000, 675000, 675000, 674000]  \n",
            "3  [728000, 722000, 723000, 721000, 725000, 727000]  \n",
            "4  [300000, 299000, 302000, 299000, 298000, 299000]  \n",
            "5                      [68000, 66800, 66400, 67500]  \n",
            "6                             [29000, 29800, 29500]  \n",
            "7                       [2474000, 2500000, 2520000]  \n",
            "новые источники:\n",
            "       type  n_sorce     activ       Bk/cm2            cpm      error\n",
            "0  4C0-new      772    11.675    22.625000    7686.666667  93.790150\n",
            "1  4C0-new      774   121.675   237.166667   80083.333333  94.918156\n",
            "2  4C0-new      776  1181.900  2000.000000  676516.666667  69.219054\n",
            "старые источники:\n",
            "       type  n_sorce    activ       Bk/cm2           cpm      error\n",
            "6  4C0-old    12039    78.39    89.225000  2.943333e+04  13.821916\n",
            "5  4C0-old    12040   191.30   207.250000  6.717500e+04   8.337689\n",
            "4  4C0-old    12041   892.40   893.666667  2.995000e+05   0.141939\n",
            "3  4C0-old    12042  2258.00  2181.666667  7.243333e+05  -3.380573\n",
            "7  4C0-old    12043  8392.00  7567.500000  2.498000e+06  -9.824833\n"
          ]
        }
      ]
    },
    {
      "cell_type": "code",
      "source": [
        "fig = px.line(data, y=['Bk/cm2', 'cpm', 'activ'], x='activ' , color='type', markers='*', log_y=True, log_x=True, template=template)\n",
        "fig.update_layout(\n",
        "                  title=\"Показания прибора\",\n",
        "                  xaxis_title=\"Номинальная плотность потока источника , Бк/см2 (логарифмическая шкала)\",\n",
        "                  yaxis_title=\"Бк/см2(снизу), cpm(сверху):  (логарифмическая шкала)\",\n",
        ")\n",
        "fig.show()"
      ],
      "metadata": {
        "colab": {
          "base_uri": "https://localhost:8080/",
          "height": 542
        },
        "id": "DMAUoBwOObNr",
        "outputId": "9ee18691-d76b-4723-cbef-fc0734e98e7c"
      },
      "execution_count": 23,
      "outputs": [
        {
          "output_type": "display_data",
          "data": {
            "text/html": [
              "<html>\n",
              "<head><meta charset=\"utf-8\" /></head>\n",
              "<body>\n",
              "    <div>            <script src=\"https://cdnjs.cloudflare.com/ajax/libs/mathjax/2.7.5/MathJax.js?config=TeX-AMS-MML_SVG\"></script><script type=\"text/javascript\">if (window.MathJax && window.MathJax.Hub && window.MathJax.Hub.Config) {window.MathJax.Hub.Config({SVG: {font: \"STIX-Web\"}});}</script>                <script type=\"text/javascript\">window.PlotlyConfig = {MathJaxConfig: 'local'};</script>\n",
              "        <script charset=\"utf-8\" src=\"https://cdn.plot.ly/plotly-2.24.1.min.js\"></script>                <div id=\"bcf9e01f-dcc6-4429-b638-7faf22bf5f68\" class=\"plotly-graph-div\" style=\"height:525px; width:100%;\"></div>            <script type=\"text/javascript\">                                    window.PLOTLYENV=window.PLOTLYENV || {};                                    if (document.getElementById(\"bcf9e01f-dcc6-4429-b638-7faf22bf5f68\")) {                    Plotly.newPlot(                        \"bcf9e01f-dcc6-4429-b638-7faf22bf5f68\",                        [{\"hovertemplate\":\"type=4C0-new\\u003cbr\\u003evariable=Bk\\u002fcm2\\u003cbr\\u003eactiv=%{x}\\u003cbr\\u003evalue=%{y}\\u003cextra\\u003e\\u003c\\u002fextra\\u003e\",\"legendgroup\":\"4C0-new\",\"line\":{\"color\":\"#F8766D\",\"dash\":\"solid\"},\"marker\":{\"symbol\":\"circle\"},\"mode\":\"lines+markers\",\"name\":\"4C0-new\",\"orientation\":\"v\",\"showlegend\":true,\"x\":[11.675,121.675,1181.9],\"xaxis\":\"x\",\"y\":[22.624999999999996,237.16666666666666,2000.0],\"yaxis\":\"y\",\"type\":\"scatter\"},{\"hovertemplate\":\"type=4C0-new\\u003cbr\\u003evariable=cpm\\u003cbr\\u003eactiv=%{x}\\u003cbr\\u003evalue=%{y}\\u003cextra\\u003e\\u003c\\u002fextra\\u003e\",\"legendgroup\":\"4C0-new\",\"line\":{\"color\":\"#F8766D\",\"dash\":\"solid\"},\"marker\":{\"symbol\":\"circle\"},\"mode\":\"lines+markers\",\"name\":\"4C0-new\",\"orientation\":\"v\",\"showlegend\":false,\"x\":[11.675,121.675,1181.9],\"xaxis\":\"x\",\"y\":[7686.666666666667,80083.33333333333,676516.6666666666],\"yaxis\":\"y\",\"type\":\"scatter\"},{\"hovertemplate\":\"type=4C0-old\\u003cbr\\u003evariable=Bk\\u002fcm2\\u003cbr\\u003eactiv=%{x}\\u003cbr\\u003evalue=%{y}\\u003cextra\\u003e\\u003c\\u002fextra\\u003e\",\"legendgroup\":\"4C0-old\",\"line\":{\"color\":\"#A3A500\",\"dash\":\"solid\"},\"marker\":{\"symbol\":\"circle\"},\"mode\":\"lines+markers\",\"name\":\"4C0-old\",\"orientation\":\"v\",\"showlegend\":true,\"x\":[78.39,191.3,892.4,2258.0,8392.0],\"xaxis\":\"x\",\"y\":[89.225,207.25,893.6666666666666,2181.6666666666665,7567.5],\"yaxis\":\"y\",\"type\":\"scatter\"},{\"hovertemplate\":\"type=4C0-old\\u003cbr\\u003evariable=cpm\\u003cbr\\u003eactiv=%{x}\\u003cbr\\u003evalue=%{y}\\u003cextra\\u003e\\u003c\\u002fextra\\u003e\",\"legendgroup\":\"4C0-old\",\"line\":{\"color\":\"#A3A500\",\"dash\":\"solid\"},\"marker\":{\"symbol\":\"circle\"},\"mode\":\"lines+markers\",\"name\":\"4C0-old\",\"orientation\":\"v\",\"showlegend\":false,\"x\":[78.39,191.3,892.4,2258.0,8392.0],\"xaxis\":\"x\",\"y\":[29433.333333333332,67175.0,299500.0,724333.3333333334,2498000.0],\"yaxis\":\"y\",\"type\":\"scatter\"}],                        {\"template\":{\"data\":{\"barpolar\":[{\"marker\":{\"line\":{\"color\":\"rgb(237,237,237)\",\"width\":0.5},\"pattern\":{\"fillmode\":\"overlay\",\"size\":10,\"solidity\":0.2}},\"type\":\"barpolar\"}],\"bar\":[{\"error_x\":{\"color\":\"rgb(51,51,51)\"},\"error_y\":{\"color\":\"rgb(51,51,51)\"},\"marker\":{\"line\":{\"color\":\"rgb(237,237,237)\",\"width\":0.5},\"pattern\":{\"fillmode\":\"overlay\",\"size\":10,\"solidity\":0.2}},\"type\":\"bar\"}],\"carpet\":[{\"aaxis\":{\"endlinecolor\":\"rgb(51,51,51)\",\"gridcolor\":\"white\",\"linecolor\":\"white\",\"minorgridcolor\":\"white\",\"startlinecolor\":\"rgb(51,51,51)\"},\"baxis\":{\"endlinecolor\":\"rgb(51,51,51)\",\"gridcolor\":\"white\",\"linecolor\":\"white\",\"minorgridcolor\":\"white\",\"startlinecolor\":\"rgb(51,51,51)\"},\"type\":\"carpet\"}],\"choropleth\":[{\"colorbar\":{\"outlinewidth\":0,\"tickcolor\":\"rgb(237,237,237)\",\"ticklen\":6,\"ticks\":\"inside\"},\"type\":\"choropleth\"}],\"contourcarpet\":[{\"colorbar\":{\"outlinewidth\":0,\"tickcolor\":\"rgb(237,237,237)\",\"ticklen\":6,\"ticks\":\"inside\"},\"type\":\"contourcarpet\"}],\"contour\":[{\"colorbar\":{\"outlinewidth\":0,\"tickcolor\":\"rgb(237,237,237)\",\"ticklen\":6,\"ticks\":\"inside\"},\"colorscale\":[[0,\"rgb(20,44,66)\"],[1,\"rgb(90,179,244)\"]],\"type\":\"contour\"}],\"heatmapgl\":[{\"colorbar\":{\"outlinewidth\":0,\"tickcolor\":\"rgb(237,237,237)\",\"ticklen\":6,\"ticks\":\"inside\"},\"colorscale\":[[0,\"rgb(20,44,66)\"],[1,\"rgb(90,179,244)\"]],\"type\":\"heatmapgl\"}],\"heatmap\":[{\"colorbar\":{\"outlinewidth\":0,\"tickcolor\":\"rgb(237,237,237)\",\"ticklen\":6,\"ticks\":\"inside\"},\"colorscale\":[[0,\"rgb(20,44,66)\"],[1,\"rgb(90,179,244)\"]],\"type\":\"heatmap\"}],\"histogram2dcontour\":[{\"colorbar\":{\"outlinewidth\":0,\"tickcolor\":\"rgb(237,237,237)\",\"ticklen\":6,\"ticks\":\"inside\"},\"colorscale\":[[0,\"rgb(20,44,66)\"],[1,\"rgb(90,179,244)\"]],\"type\":\"histogram2dcontour\"}],\"histogram2d\":[{\"colorbar\":{\"outlinewidth\":0,\"tickcolor\":\"rgb(237,237,237)\",\"ticklen\":6,\"ticks\":\"inside\"},\"colorscale\":[[0,\"rgb(20,44,66)\"],[1,\"rgb(90,179,244)\"]],\"type\":\"histogram2d\"}],\"histogram\":[{\"marker\":{\"pattern\":{\"fillmode\":\"overlay\",\"size\":10,\"solidity\":0.2}},\"type\":\"histogram\"}],\"mesh3d\":[{\"colorbar\":{\"outlinewidth\":0,\"tickcolor\":\"rgb(237,237,237)\",\"ticklen\":6,\"ticks\":\"inside\"},\"type\":\"mesh3d\"}],\"parcoords\":[{\"line\":{\"colorbar\":{\"outlinewidth\":0,\"tickcolor\":\"rgb(237,237,237)\",\"ticklen\":6,\"ticks\":\"inside\"}},\"type\":\"parcoords\"}],\"pie\":[{\"automargin\":true,\"type\":\"pie\"}],\"scatter3d\":[{\"line\":{\"colorbar\":{\"outlinewidth\":0,\"tickcolor\":\"rgb(237,237,237)\",\"ticklen\":6,\"ticks\":\"inside\"}},\"marker\":{\"colorbar\":{\"outlinewidth\":0,\"tickcolor\":\"rgb(237,237,237)\",\"ticklen\":6,\"ticks\":\"inside\"}},\"type\":\"scatter3d\"}],\"scattercarpet\":[{\"marker\":{\"colorbar\":{\"outlinewidth\":0,\"tickcolor\":\"rgb(237,237,237)\",\"ticklen\":6,\"ticks\":\"inside\"}},\"type\":\"scattercarpet\"}],\"scattergeo\":[{\"marker\":{\"colorbar\":{\"outlinewidth\":0,\"tickcolor\":\"rgb(237,237,237)\",\"ticklen\":6,\"ticks\":\"inside\"}},\"type\":\"scattergeo\"}],\"scattergl\":[{\"marker\":{\"colorbar\":{\"outlinewidth\":0,\"tickcolor\":\"rgb(237,237,237)\",\"ticklen\":6,\"ticks\":\"inside\"}},\"type\":\"scattergl\"}],\"scattermapbox\":[{\"marker\":{\"colorbar\":{\"outlinewidth\":0,\"tickcolor\":\"rgb(237,237,237)\",\"ticklen\":6,\"ticks\":\"inside\"}},\"type\":\"scattermapbox\"}],\"scatterpolargl\":[{\"marker\":{\"colorbar\":{\"outlinewidth\":0,\"tickcolor\":\"rgb(237,237,237)\",\"ticklen\":6,\"ticks\":\"inside\"}},\"type\":\"scatterpolargl\"}],\"scatterpolar\":[{\"marker\":{\"colorbar\":{\"outlinewidth\":0,\"tickcolor\":\"rgb(237,237,237)\",\"ticklen\":6,\"ticks\":\"inside\"}},\"type\":\"scatterpolar\"}],\"scatter\":[{\"fillpattern\":{\"fillmode\":\"overlay\",\"size\":10,\"solidity\":0.2},\"type\":\"scatter\"}],\"scatterternary\":[{\"marker\":{\"colorbar\":{\"outlinewidth\":0,\"tickcolor\":\"rgb(237,237,237)\",\"ticklen\":6,\"ticks\":\"inside\"}},\"type\":\"scatterternary\"}],\"surface\":[{\"colorbar\":{\"outlinewidth\":0,\"tickcolor\":\"rgb(237,237,237)\",\"ticklen\":6,\"ticks\":\"inside\"},\"colorscale\":[[0,\"rgb(20,44,66)\"],[1,\"rgb(90,179,244)\"]],\"type\":\"surface\"}],\"table\":[{\"cells\":{\"fill\":{\"color\":\"rgb(237,237,237)\"},\"line\":{\"color\":\"white\"}},\"header\":{\"fill\":{\"color\":\"rgb(217,217,217)\"},\"line\":{\"color\":\"white\"}},\"type\":\"table\"}]},\"layout\":{\"annotationdefaults\":{\"arrowhead\":0,\"arrowwidth\":1},\"autotypenumbers\":\"strict\",\"coloraxis\":{\"colorbar\":{\"outlinewidth\":0,\"tickcolor\":\"rgb(237,237,237)\",\"ticklen\":6,\"ticks\":\"inside\"}},\"colorscale\":{\"sequential\":[[0,\"rgb(20,44,66)\"],[1,\"rgb(90,179,244)\"]],\"sequentialminus\":[[0,\"rgb(20,44,66)\"],[1,\"rgb(90,179,244)\"]]},\"colorway\":[\"#F8766D\",\"#A3A500\",\"#00BF7D\",\"#00B0F6\",\"#E76BF3\"],\"font\":{\"color\":\"rgb(51,51,51)\"},\"geo\":{\"bgcolor\":\"white\",\"lakecolor\":\"white\",\"landcolor\":\"rgb(237,237,237)\",\"showlakes\":true,\"showland\":true,\"subunitcolor\":\"white\"},\"hoverlabel\":{\"align\":\"left\"},\"hovermode\":\"closest\",\"paper_bgcolor\":\"white\",\"plot_bgcolor\":\"rgb(237,237,237)\",\"polar\":{\"angularaxis\":{\"gridcolor\":\"white\",\"linecolor\":\"white\",\"showgrid\":true,\"tickcolor\":\"rgb(51,51,51)\",\"ticks\":\"outside\"},\"bgcolor\":\"rgb(237,237,237)\",\"radialaxis\":{\"gridcolor\":\"white\",\"linecolor\":\"white\",\"showgrid\":true,\"tickcolor\":\"rgb(51,51,51)\",\"ticks\":\"outside\"}},\"scene\":{\"xaxis\":{\"backgroundcolor\":\"rgb(237,237,237)\",\"gridcolor\":\"white\",\"gridwidth\":2,\"linecolor\":\"white\",\"showbackground\":true,\"showgrid\":true,\"tickcolor\":\"rgb(51,51,51)\",\"ticks\":\"outside\",\"zerolinecolor\":\"white\"},\"yaxis\":{\"backgroundcolor\":\"rgb(237,237,237)\",\"gridcolor\":\"white\",\"gridwidth\":2,\"linecolor\":\"white\",\"showbackground\":true,\"showgrid\":true,\"tickcolor\":\"rgb(51,51,51)\",\"ticks\":\"outside\",\"zerolinecolor\":\"white\"},\"zaxis\":{\"backgroundcolor\":\"rgb(237,237,237)\",\"gridcolor\":\"white\",\"gridwidth\":2,\"linecolor\":\"white\",\"showbackground\":true,\"showgrid\":true,\"tickcolor\":\"rgb(51,51,51)\",\"ticks\":\"outside\",\"zerolinecolor\":\"white\"}},\"shapedefaults\":{\"fillcolor\":\"black\",\"line\":{\"width\":0},\"opacity\":0.3},\"ternary\":{\"aaxis\":{\"gridcolor\":\"white\",\"linecolor\":\"white\",\"showgrid\":true,\"tickcolor\":\"rgb(51,51,51)\",\"ticks\":\"outside\"},\"baxis\":{\"gridcolor\":\"white\",\"linecolor\":\"white\",\"showgrid\":true,\"tickcolor\":\"rgb(51,51,51)\",\"ticks\":\"outside\"},\"bgcolor\":\"rgb(237,237,237)\",\"caxis\":{\"gridcolor\":\"white\",\"linecolor\":\"white\",\"showgrid\":true,\"tickcolor\":\"rgb(51,51,51)\",\"ticks\":\"outside\"}},\"xaxis\":{\"automargin\":true,\"gridcolor\":\"white\",\"linecolor\":\"white\",\"showgrid\":true,\"tickcolor\":\"rgb(51,51,51)\",\"ticks\":\"outside\",\"title\":{\"standoff\":15},\"zerolinecolor\":\"white\"},\"yaxis\":{\"automargin\":true,\"gridcolor\":\"white\",\"linecolor\":\"white\",\"showgrid\":true,\"tickcolor\":\"rgb(51,51,51)\",\"ticks\":\"outside\",\"title\":{\"standoff\":15},\"zerolinecolor\":\"white\"}}},\"xaxis\":{\"anchor\":\"y\",\"domain\":[0.0,1.0],\"title\":{\"text\":\"\\u041d\\u043e\\u043c\\u0438\\u043d\\u0430\\u043b\\u044c\\u043d\\u0430\\u044f \\u043f\\u043b\\u043e\\u0442\\u043d\\u043e\\u0441\\u0442\\u044c \\u043f\\u043e\\u0442\\u043e\\u043a\\u0430 \\u0438\\u0441\\u0442\\u043e\\u0447\\u043d\\u0438\\u043a\\u0430 , \\u0411\\u043a\\u002f\\u0441\\u043c2 (\\u043b\\u043e\\u0433\\u0430\\u0440\\u0438\\u0444\\u043c\\u0438\\u0447\\u0435\\u0441\\u043a\\u0430\\u044f \\u0448\\u043a\\u0430\\u043b\\u0430)\"},\"type\":\"log\"},\"yaxis\":{\"anchor\":\"x\",\"domain\":[0.0,1.0],\"title\":{\"text\":\"\\u0411\\u043a\\u002f\\u0441\\u043c2(\\u0441\\u043d\\u0438\\u0437\\u0443), cpm(\\u0441\\u0432\\u0435\\u0440\\u0445\\u0443):  (\\u043b\\u043e\\u0433\\u0430\\u0440\\u0438\\u0444\\u043c\\u0438\\u0447\\u0435\\u0441\\u043a\\u0430\\u044f \\u0448\\u043a\\u0430\\u043b\\u0430)\"},\"type\":\"log\"},\"legend\":{\"title\":{\"text\":\"type\"},\"tracegroupgap\":0},\"margin\":{\"t\":60},\"title\":{\"text\":\"\\u041f\\u043e\\u043a\\u0430\\u0437\\u0430\\u043d\\u0438\\u044f \\u043f\\u0440\\u0438\\u0431\\u043e\\u0440\\u0430\"}},                        {\"responsive\": true}                    ).then(function(){\n",
              "                            \n",
              "var gd = document.getElementById('bcf9e01f-dcc6-4429-b638-7faf22bf5f68');\n",
              "var x = new MutationObserver(function (mutations, observer) {{\n",
              "        var display = window.getComputedStyle(gd).display;\n",
              "        if (!display || display === 'none') {{\n",
              "            console.log([gd, 'removed!']);\n",
              "            Plotly.purge(gd);\n",
              "            observer.disconnect();\n",
              "        }}\n",
              "}});\n",
              "\n",
              "// Listen for the removal of the full notebook cells\n",
              "var notebookContainer = gd.closest('#notebook-container');\n",
              "if (notebookContainer) {{\n",
              "    x.observe(notebookContainer, {childList: true});\n",
              "}}\n",
              "\n",
              "// Listen for the clearing of the current output cell\n",
              "var outputEl = gd.closest('.output');\n",
              "if (outputEl) {{\n",
              "    x.observe(outputEl, {childList: true});\n",
              "}}\n",
              "\n",
              "                        })                };                            </script>        </div>\n",
              "</body>\n",
              "</html>"
            ]
          },
          "metadata": {}
        }
      ]
    }
  ]
}